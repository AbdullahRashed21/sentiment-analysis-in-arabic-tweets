{
 "cells": [
  {
   "cell_type": "markdown",
   "metadata": {
    "id": "4965AzV3giTi"
   },
   "source": [
    "### **First draft code**"
   ]
  },
  {
   "cell_type": "code",
   "execution_count": 3,
   "metadata": {
    "colab": {
     "base_uri": "https://localhost:8080/"
    },
    "id": "egwQPRTPfN-C",
    "outputId": "78ec7f92-4b45-4e6f-8630-84fd35aac6a3"
   },
   "outputs": [],
   "source": [
    "import numpy as np \n",
    "import pandas as pd \n",
    "import warnings\n",
    "warnings.filterwarnings(\"ignore\")\n",
    "from wordcloud import WordCloud\n",
    "import matplotlib.pyplot as plt\n",
    "import pandas\n",
    "import seaborn as sns \n",
    "from sklearn import preprocessing\n",
    "import nltk \n",
    "from nltk.corpus import stopwords\n",
    "from nltk.tokenize import word_tokenize\n",
    "from nltk.tokenize import RegexpTokenizer\n",
    "from collections import Counter \n",
    "import matplotlib.cm as cm\n",
    "from matplotlib import rcParams\n",
    "from prettytable import PrettyTable\n",
    "from sklearn.feature_extraction.text import TfidfVectorizer\n",
    "from sklearn import preprocessing\n",
    "from sklearn.model_selection import train_test_split\n",
    "from sklearn.metrics import f1_score\n",
    "from sklearn.metrics import precision_score\n",
    "from sklearn.metrics import recall_score\n",
    "from sklearn.naive_bayes import GaussianNB\n",
    "from sklearn.linear_model import RidgeClassifier\n",
    "from sklearn.linear_model import PassiveAggressiveClassifier\n",
    "from sklearn.linear_model import LogisticRegression\n",
    "import re , emoji, string"
   ]
  },
  {
   "cell_type": "code",
   "execution_count": 4,
   "metadata": {
    "id": "Chdarh3uf4HI"
   },
   "outputs": [],
   "source": [
    "df=pd.read_csv(\"all_data.csv\")"
   ]
  },
  {
   "cell_type": "code",
   "execution_count": 5,
   "metadata": {
    "colab": {
     "base_uri": "https://localhost:8080/",
     "height": 215
    },
    "id": "8oJJg6s4juA0",
    "outputId": "a33fec12-cdcd-4049-a5b0-a5303be967a6"
   },
   "outputs": [
    {
     "data": {
      "text/html": [
       "<div>\n",
       "<style scoped>\n",
       "    .dataframe tbody tr th:only-of-type {\n",
       "        vertical-align: middle;\n",
       "    }\n",
       "\n",
       "    .dataframe tbody tr th {\n",
       "        vertical-align: top;\n",
       "    }\n",
       "\n",
       "    .dataframe thead th {\n",
       "        text-align: right;\n",
       "    }\n",
       "</style>\n",
       "<table border=\"1\" class=\"dataframe\">\n",
       "  <thead>\n",
       "    <tr style=\"text-align: right;\">\n",
       "      <th></th>\n",
       "      <th>Unnamed: 0</th>\n",
       "      <th>text</th>\n",
       "      <th>sentiment</th>\n",
       "    </tr>\n",
       "  </thead>\n",
       "  <tbody>\n",
       "    <tr>\n",
       "      <th>0</th>\n",
       "      <td>0</td>\n",
       "      <td>﻿حقا\\n</td>\n",
       "      <td>pos</td>\n",
       "    </tr>\n",
       "    <tr>\n",
       "      <th>1</th>\n",
       "      <td>1</td>\n",
       "      <td>صح جدا\\n</td>\n",
       "      <td>pos</td>\n",
       "    </tr>\n",
       "    <tr>\n",
       "      <th>2</th>\n",
       "      <td>2</td>\n",
       "      <td>﻿اه و النعمة \\n</td>\n",
       "      <td>pos</td>\n",
       "    </tr>\n",
       "    <tr>\n",
       "      <th>3</th>\n",
       "      <td>3</td>\n",
       "      <td>كلامك جميل ورائع\\n</td>\n",
       "      <td>pos</td>\n",
       "    </tr>\n",
       "    <tr>\n",
       "      <th>4</th>\n",
       "      <td>4</td>\n",
       "      <td>﻿و خير الكلام ما قل و دل\\n</td>\n",
       "      <td>pos</td>\n",
       "    </tr>\n",
       "  </tbody>\n",
       "</table>\n",
       "</div>"
      ],
      "text/plain": [
       "   Unnamed: 0                        text sentiment\n",
       "0           0                      ﻿حقا\\n       pos\n",
       "1           1                    صح جدا\\n       pos\n",
       "2           2             ﻿اه و النعمة \\n       pos\n",
       "3           3          كلامك جميل ورائع\\n       pos\n",
       "4           4  ﻿و خير الكلام ما قل و دل\\n       pos"
      ]
     },
     "execution_count": 5,
     "metadata": {},
     "output_type": "execute_result"
    }
   ],
   "source": [
    "df.head()"
   ]
  },
  {
   "cell_type": "code",
   "execution_count": 6,
   "metadata": {
    "colab": {
     "base_uri": "https://localhost:8080/"
    },
    "id": "2YAnkMqjj8eW",
    "outputId": "e0480281-4df4-4436-9c31-368691558fb3"
   },
   "outputs": [
    {
     "data": {
      "text/plain": [
       "(156407, 3)"
      ]
     },
     "execution_count": 6,
     "metadata": {},
     "output_type": "execute_result"
    }
   ],
   "source": [
    "df.shape"
   ]
  },
  {
   "cell_type": "code",
   "execution_count": 7,
   "metadata": {
    "colab": {
     "base_uri": "https://localhost:8080/",
     "height": 677
    },
    "id": "U4C9zW3CkKH9",
    "outputId": "9fb34490-c280-4cf7-8b0a-db812b348d49"
   },
   "outputs": [
    {
     "data": {
      "text/html": [
       "<div>\n",
       "<style scoped>\n",
       "    .dataframe tbody tr th:only-of-type {\n",
       "        vertical-align: middle;\n",
       "    }\n",
       "\n",
       "    .dataframe tbody tr th {\n",
       "        vertical-align: top;\n",
       "    }\n",
       "\n",
       "    .dataframe thead th {\n",
       "        text-align: right;\n",
       "    }\n",
       "</style>\n",
       "<table border=\"1\" class=\"dataframe\">\n",
       "  <thead>\n",
       "    <tr style=\"text-align: right;\">\n",
       "      <th></th>\n",
       "      <th>Unnamed: 0</th>\n",
       "      <th>text</th>\n",
       "      <th>sentiment</th>\n",
       "    </tr>\n",
       "  </thead>\n",
       "  <tbody>\n",
       "    <tr>\n",
       "      <th>77982</th>\n",
       "      <td>75991</td>\n",
       "      <td>أهمية وزير الطاقة السعودي ووزير الطاقة القطري ...</td>\n",
       "      <td>pos</td>\n",
       "    </tr>\n",
       "    <tr>\n",
       "      <th>78831</th>\n",
       "      <td>76840</td>\n",
       "      <td>هلابك بوسمره 💘\\n</td>\n",
       "      <td>pos</td>\n",
       "    </tr>\n",
       "    <tr>\n",
       "      <th>24907</th>\n",
       "      <td>22916</td>\n",
       "      <td>لبيه ياروح الغلا وانته الشــوق يامن حضورك يجعل...</td>\n",
       "      <td>pos</td>\n",
       "    </tr>\n",
       "    <tr>\n",
       "      <th>46104</th>\n",
       "      <td>44113</td>\n",
       "      <td>البفرق انو منو القدر يستحمل وبقدر يكمل 💪 منو ا...</td>\n",
       "      <td>pos</td>\n",
       "    </tr>\n",
       "    <tr>\n",
       "      <th>82905</th>\n",
       "      <td>80914</td>\n",
       "      <td>بتعانى من زيادة الوزن والكرش أو الترهلات 😚 منت...</td>\n",
       "      <td>pos</td>\n",
       "    </tr>\n",
       "    <tr>\n",
       "      <th>28078</th>\n",
       "      <td>26087</td>\n",
       "      <td>احصلي علي افضل ملابس المحجباب 😍 و تالقي دائما ...</td>\n",
       "      <td>pos</td>\n",
       "    </tr>\n",
       "    <tr>\n",
       "      <th>20005</th>\n",
       "      <td>18014</td>\n",
       "      <td>عيب مجتمعنا مايؤمن بالنوابغ 🤓 😎\\n</td>\n",
       "      <td>pos</td>\n",
       "    </tr>\n",
       "    <tr>\n",
       "      <th>95623</th>\n",
       "      <td>93632</td>\n",
       "      <td>موجود ❤ ️ و الغياب اصلا بقاله اسبوع كل يوم يتق...</td>\n",
       "      <td>neg</td>\n",
       "    </tr>\n",
       "    <tr>\n",
       "      <th>31792</th>\n",
       "      <td>29801</td>\n",
       "      <td>﴿ و َ إ ِ ذ ْ ص َ ر َ ف ْ ن َ ا إ ِ ل َ ي ْ ك ...</td>\n",
       "      <td>pos</td>\n",
       "    </tr>\n",
       "    <tr>\n",
       "      <th>3925</th>\n",
       "      <td>1934</td>\n",
       "      <td>هذي اسمها سرسره :) والباقي ماباكتبه الا لعن ال...</td>\n",
       "      <td>pos</td>\n",
       "    </tr>\n",
       "    <tr>\n",
       "      <th>93746</th>\n",
       "      <td>91755</td>\n",
       "      <td>عروض نون تصل الى ٪ بالاضافه الى كوبون خصم نون ...</td>\n",
       "      <td>pos</td>\n",
       "    </tr>\n",
       "    <tr>\n",
       "      <th>151485</th>\n",
       "      <td>149494</td>\n",
       "      <td>مستحيل اتغير ع شخص بدون سبب مستحييلل . .\\n</td>\n",
       "      <td>neg</td>\n",
       "    </tr>\n",
       "    <tr>\n",
       "      <th>90109</th>\n",
       "      <td>88118</td>\n",
       "      <td>بوركت اخي ابا تركي 🌹 👍 😘\\n</td>\n",
       "      <td>pos</td>\n",
       "    </tr>\n",
       "    <tr>\n",
       "      <th>102702</th>\n",
       "      <td>100711</td>\n",
       "      <td>اي قرش بفيد . . حرام الزلمة شوية تانية يشحد + ...</td>\n",
       "      <td>neg</td>\n",
       "    </tr>\n",
       "    <tr>\n",
       "      <th>57218</th>\n",
       "      <td>55227</td>\n",
       "      <td>كلام يوزن بالذهب 🌹 👍\\n</td>\n",
       "      <td>pos</td>\n",
       "    </tr>\n",
       "    <tr>\n",
       "      <th>134152</th>\n",
       "      <td>132161</td>\n",
       "      <td>🔴 🔴 🔴 🔴 خلاص استسلم اللي يبي حسابي الثاني يجي ...</td>\n",
       "      <td>neg</td>\n",
       "    </tr>\n",
       "    <tr>\n",
       "      <th>140050</th>\n",
       "      <td>138059</td>\n",
       "      <td>وصلت الى ادنا الانحطاط الاخلاقي 👎 👎 👎 👎 👎 👎 👎 ...</td>\n",
       "      <td>neg</td>\n",
       "    </tr>\n",
       "    <tr>\n",
       "      <th>44419</th>\n",
       "      <td>42428</td>\n",
       "      <td>اللي يحبك يطلب رقم حسابك والا سنابك كلن يطلبه ...</td>\n",
       "      <td>pos</td>\n",
       "    </tr>\n",
       "    <tr>\n",
       "      <th>50386</th>\n",
       "      <td>48395</td>\n",
       "      <td>لا 😅 يبيله إيراني ما ينفع اللبناني 😂 💔\\n</td>\n",
       "      <td>pos</td>\n",
       "    </tr>\n",
       "    <tr>\n",
       "      <th>104859</th>\n",
       "      <td>102868</td>\n",
       "      <td>ويـن الگــه يوسـف هالـوكت ويفـسر أحلامـي صـارت...</td>\n",
       "      <td>neg</td>\n",
       "    </tr>\n",
       "  </tbody>\n",
       "</table>\n",
       "</div>"
      ],
      "text/plain": [
       "        Unnamed: 0                                               text  \\\n",
       "77982        75991  أهمية وزير الطاقة السعودي ووزير الطاقة القطري ...   \n",
       "78831        76840                                   هلابك بوسمره 💘\\n   \n",
       "24907        22916  لبيه ياروح الغلا وانته الشــوق يامن حضورك يجعل...   \n",
       "46104        44113  البفرق انو منو القدر يستحمل وبقدر يكمل 💪 منو ا...   \n",
       "82905        80914  بتعانى من زيادة الوزن والكرش أو الترهلات 😚 منت...   \n",
       "28078        26087  احصلي علي افضل ملابس المحجباب 😍 و تالقي دائما ...   \n",
       "20005        18014                  عيب مجتمعنا مايؤمن بالنوابغ 🤓 😎\\n   \n",
       "95623        93632  موجود ❤ ️ و الغياب اصلا بقاله اسبوع كل يوم يتق...   \n",
       "31792        29801  ﴿ و َ إ ِ ذ ْ ص َ ر َ ف ْ ن َ ا إ ِ ل َ ي ْ ك ...   \n",
       "3925          1934  هذي اسمها سرسره :) والباقي ماباكتبه الا لعن ال...   \n",
       "93746        91755  عروض نون تصل الى ٪ بالاضافه الى كوبون خصم نون ...   \n",
       "151485      149494         مستحيل اتغير ع شخص بدون سبب مستحييلل . .\\n   \n",
       "90109        88118                         بوركت اخي ابا تركي 🌹 👍 😘\\n   \n",
       "102702      100711  اي قرش بفيد . . حرام الزلمة شوية تانية يشحد + ...   \n",
       "57218        55227                             كلام يوزن بالذهب 🌹 👍\\n   \n",
       "134152      132161  🔴 🔴 🔴 🔴 خلاص استسلم اللي يبي حسابي الثاني يجي ...   \n",
       "140050      138059  وصلت الى ادنا الانحطاط الاخلاقي 👎 👎 👎 👎 👎 👎 👎 ...   \n",
       "44419        42428  اللي يحبك يطلب رقم حسابك والا سنابك كلن يطلبه ...   \n",
       "50386        48395           لا 😅 يبيله إيراني ما ينفع اللبناني 😂 💔\\n   \n",
       "104859      102868  ويـن الگــه يوسـف هالـوكت ويفـسر أحلامـي صـارت...   \n",
       "\n",
       "       sentiment  \n",
       "77982        pos  \n",
       "78831        pos  \n",
       "24907        pos  \n",
       "46104        pos  \n",
       "82905        pos  \n",
       "28078        pos  \n",
       "20005        pos  \n",
       "95623        neg  \n",
       "31792        pos  \n",
       "3925         pos  \n",
       "93746        pos  \n",
       "151485       neg  \n",
       "90109        pos  \n",
       "102702       neg  \n",
       "57218        pos  \n",
       "134152       neg  \n",
       "140050       neg  \n",
       "44419        pos  \n",
       "50386        pos  \n",
       "104859       neg  "
      ]
     },
     "execution_count": 7,
     "metadata": {},
     "output_type": "execute_result"
    }
   ],
   "source": [
    "df.sample(20)"
   ]
  },
  {
   "cell_type": "code",
   "execution_count": 8,
   "metadata": {
    "colab": {
     "base_uri": "https://localhost:8080/",
     "height": 49
    },
    "id": "dFgk0Gtjk1Zh",
    "outputId": "daafbd31-1521-4e26-f0e0-beda7b16e2d8"
   },
   "outputs": [
    {
     "data": {
      "text/html": [
       "<div>\n",
       "<style scoped>\n",
       "    .dataframe tbody tr th:only-of-type {\n",
       "        vertical-align: middle;\n",
       "    }\n",
       "\n",
       "    .dataframe tbody tr th {\n",
       "        vertical-align: top;\n",
       "    }\n",
       "\n",
       "    .dataframe thead th {\n",
       "        text-align: right;\n",
       "    }\n",
       "</style>\n",
       "<table border=\"1\" class=\"dataframe\">\n",
       "  <thead>\n",
       "    <tr style=\"text-align: right;\">\n",
       "      <th></th>\n",
       "      <th>Unnamed: 0</th>\n",
       "      <th>text</th>\n",
       "      <th>sentiment</th>\n",
       "    </tr>\n",
       "  </thead>\n",
       "  <tbody>\n",
       "  </tbody>\n",
       "</table>\n",
       "</div>"
      ],
      "text/plain": [
       "Empty DataFrame\n",
       "Columns: [Unnamed: 0, text, sentiment]\n",
       "Index: []"
      ]
     },
     "execution_count": 8,
     "metadata": {},
     "output_type": "execute_result"
    }
   ],
   "source": [
    "df[df.isnull().any(axis=1)].head()"
   ]
  },
  {
   "cell_type": "code",
   "execution_count": 9,
   "metadata": {
    "id": "MLXlVNhHlXNJ"
   },
   "outputs": [],
   "source": [
    "for x in '#.][!XR':\n",
    "    df['text'] = df['text'].astype(str).str.replace(x,'')"
   ]
  },
  {
   "cell_type": "code",
   "execution_count": 10,
   "metadata": {
    "id": "bKjR8vkJlmau"
   },
   "outputs": [],
   "source": [
    "arabic_punctuations = '''`÷×؛<>_()*&^%][ـ،/:\"؟.,'{}~¦+|!”…“–ـ'''\n",
    "english_punctuations = string.punctuation\n",
    "punctuations_list = arabic_punctuations + english_punctuations\n",
    "\n",
    "def remove_punctuations(text):\n",
    "    translator = str.maketrans('', '', punctuations_list)\n",
    "    return text.translate(translator)"
   ]
  },
  {
   "cell_type": "code",
   "execution_count": 11,
   "metadata": {
    "id": "rUafYCrlmXHW"
   },
   "outputs": [],
   "source": [
    "def normalize_arabic(text):\n",
    "    text = re.sub(\"[إأآا]\", \"ا\", text)\n",
    "    text = re.sub(\"ى\", \"ي\", text)\n",
    "    text = re.sub(\"ة\", \"ه\", text)\n",
    "    text = re.sub(\"گ\", \"ك\", text)\n",
    "    return text"
   ]
  },
  {
   "cell_type": "code",
   "execution_count": 12,
   "metadata": {
    "id": "oxqGENcAm01a"
   },
   "outputs": [],
   "source": [
    "#????\n",
    "def remove_repeating_char(text):\n",
    "    return re.sub(r'(.)\\1+', r'\\1', text)"
   ]
  },
  {
   "cell_type": "code",
   "execution_count": 13,
   "metadata": {
    "id": "qt1yXY1-plsw"
   },
   "outputs": [],
   "source": [
    "\n",
    "def remove_emoji(text):\n",
    "    emoji_pattern = re.compile(\"[\"\n",
    "                               u\"\\U0001F600-\\U0001F64F\"  # emoticons\n",
    "                               u\"\\U0001F300-\\U0001F5FF\"  # symbols & pictographs\n",
    "                               u\"\\U0001F680-\\U0001F6FF\"  # transport & map symbols\n",
    "                               u\"\\U0001F1E0-\\U0001F1FF\"  # flags (iOS)\n",
    "                               u\"\\U00002500-\\U00002BEF\"  # chinese char\n",
    "                               u\"\\U00002702-\\U000027B0\"\n",
    "                               u\"\\U00002702-\\U000027B0\"\n",
    "                               u\"\\U000024C2-\\U0001F251\"\n",
    "                               u\"\\U0001f926-\\U0001f937\"\n",
    "                               u\"\\U00010000-\\U0010ffff\"\n",
    "                               u\"\\u2640-\\u2642\"\n",
    "                               u\"\\u2600-\\u2B55\"\n",
    "                               u\"\\u200d\"\n",
    "                               u\"\\u23cf\"\n",
    "                               u\"\\u23e9\"\n",
    "                               u\"\\u231a\"\n",
    "                               u\"\\ufe0f\"  # dingbats\n",
    "                               u\"\\u3030\"\n",
    "                               \"]+\", flags=re.UNICODE)\n",
    "    return emoji_pattern.sub(r'', text)"
   ]
  },
  {
   "cell_type": "code",
   "execution_count": 14,
   "metadata": {
    "id": "Z0YNKP2im1qO"
   },
   "outputs": [],
   "source": [
    "def processPost(tweet): \n",
    "\n",
    "    #Replace @username with empty string\n",
    "    tweet = re.sub('@[^\\s]+', ' ', tweet)\n",
    "    \n",
    "    #Convert www.* or https?://* to \" \"\n",
    "    tweet = re.sub('((www\\.[^\\s]+)|(https?://[^\\s]+))',' ',tweet)\n",
    "    \n",
    "    #Replace #word with word\n",
    "    tweet = re.sub(r'#([^\\s]+)', r'\\1', tweet)\n",
    "\n",
    "    # remove punctuations\n",
    "    tweet= remove_punctuations(tweet)\n",
    "    \n",
    "    # normalize the tweet\n",
    "     #tweet= normalize_arabic(tweet)\n",
    "    \n",
    "    # remove repeated letters\n",
    "    tweet=remove_repeating_char(tweet)\n",
    "\n",
    "    # remove emoji\n",
    "    tweet=remove_emoji(tweet)\n",
    "    \n",
    "    return tweet"
   ]
  },
  {
   "cell_type": "code",
   "execution_count": 15,
   "metadata": {
    "id": "qyEcJOdFnNnW"
   },
   "outputs": [],
   "source": [
    "df[\"text\"] = df['text'].apply(lambda x: processPost(x)) # apply used to call the method processpost"
   ]
  },
  {
   "cell_type": "code",
   "execution_count": 16,
   "metadata": {
    "colab": {
     "base_uri": "https://localhost:8080/",
     "height": 677
    },
    "id": "UwmhvIxSnfUj",
    "outputId": "e9f451aa-4e04-4249-ed35-3426c045f8e7"
   },
   "outputs": [
    {
     "data": {
      "text/html": [
       "<div>\n",
       "<style scoped>\n",
       "    .dataframe tbody tr th:only-of-type {\n",
       "        vertical-align: middle;\n",
       "    }\n",
       "\n",
       "    .dataframe tbody tr th {\n",
       "        vertical-align: top;\n",
       "    }\n",
       "\n",
       "    .dataframe thead th {\n",
       "        text-align: right;\n",
       "    }\n",
       "</style>\n",
       "<table border=\"1\" class=\"dataframe\">\n",
       "  <thead>\n",
       "    <tr style=\"text-align: right;\">\n",
       "      <th></th>\n",
       "      <th>Unnamed: 0</th>\n",
       "      <th>text</th>\n",
       "      <th>sentiment</th>\n",
       "    </tr>\n",
       "  </thead>\n",
       "  <tbody>\n",
       "    <tr>\n",
       "      <th>26024</th>\n",
       "      <td>24033</td>\n",
       "      <td>يا صباح الجمال   ماشاء اله\\n</td>\n",
       "      <td>pos</td>\n",
       "    </tr>\n",
       "    <tr>\n",
       "      <th>10085</th>\n",
       "      <td>8094</td>\n",
       "      <td>إعلم أن حاجتك إلى الصدقة أشد من حاجة من تصدق ع...</td>\n",
       "      <td>pos</td>\n",
       "    </tr>\n",
       "    <tr>\n",
       "      <th>83914</th>\n",
       "      <td>81923</td>\n",
       "      <td>البديل الفعال لفياغرا    منتج امريكي طبيعي لحي...</td>\n",
       "      <td>pos</td>\n",
       "    </tr>\n",
       "    <tr>\n",
       "      <th>19765</th>\n",
       "      <td>17774</td>\n",
       "      <td>حدث الان وانا ف العربية تحدث معى بأدب واخفض صو...</td>\n",
       "      <td>pos</td>\n",
       "    </tr>\n",
       "    <tr>\n",
       "      <th>116538</th>\n",
       "      <td>114547</td>\n",
       "      <td>دورينا من جرف ل دحديره ماراح نتطور و المناصب ك...</td>\n",
       "      <td>neg</td>\n",
       "    </tr>\n",
       "    <tr>\n",
       "      <th>17076</th>\n",
       "      <td>15085</td>\n",
       "      <td>لا تفوتوا الفرصة  تابعونا على صفحتنا و جاوبوا ...</td>\n",
       "      <td>pos</td>\n",
       "    </tr>\n",
       "    <tr>\n",
       "      <th>94123</th>\n",
       "      <td>92132</td>\n",
       "      <td>فديتك  \\n</td>\n",
       "      <td>pos</td>\n",
       "    </tr>\n",
       "    <tr>\n",
       "      <th>18203</th>\n",
       "      <td>16212</td>\n",
       "      <td>من ضمن المشاركين في الشاعر وفنان الكاريكاتير ا...</td>\n",
       "      <td>pos</td>\n",
       "    </tr>\n",
       "    <tr>\n",
       "      <th>75774</th>\n",
       "      <td>73783</td>\n",
       "      <td>ده بالنهار بس \\n</td>\n",
       "      <td>pos</td>\n",
       "    </tr>\n",
       "    <tr>\n",
       "      <th>8673</th>\n",
       "      <td>6682</td>\n",
       "      <td>هل تعاني من الضعف الجنسي  الآن الحل مالتي ماكا...</td>\n",
       "      <td>pos</td>\n",
       "    </tr>\n",
       "    <tr>\n",
       "      <th>80794</th>\n",
       "      <td>78803</td>\n",
       "      <td>خدنى دائمآ على محمل الاستثناء فانا لا أشبه الب...</td>\n",
       "      <td>pos</td>\n",
       "    </tr>\n",
       "    <tr>\n",
       "      <th>59070</th>\n",
       "      <td>57079</td>\n",
       "      <td>هديتك جاهزه \\n</td>\n",
       "      <td>pos</td>\n",
       "    </tr>\n",
       "    <tr>\n",
       "      <th>96222</th>\n",
       "      <td>94231</td>\n",
       "      <td>عشان باخذ عليك زاها  \\n</td>\n",
       "      <td>neg</td>\n",
       "    </tr>\n",
       "    <tr>\n",
       "      <th>154574</th>\n",
       "      <td>152583</td>\n",
       "      <td>۽   يقولون ماودعڪ قلت الفراق وصار الإنسان روحه...</td>\n",
       "      <td>neg</td>\n",
       "    </tr>\n",
       "    <tr>\n",
       "      <th>127285</th>\n",
       "      <td>125294</td>\n",
       "      <td>المتفاعلين لكم هديه قريب ان شاءاله تستاهلون  \\n</td>\n",
       "      <td>neg</td>\n",
       "    </tr>\n",
       "    <tr>\n",
       "      <th>8538</th>\n",
       "      <td>6547</td>\n",
       "      <td>مفيش حاجه بتعدل مزاجي غير ان الاسماعيلي يكسب  ...</td>\n",
       "      <td>pos</td>\n",
       "    </tr>\n",
       "    <tr>\n",
       "      <th>124546</th>\n",
       "      <td>122555</td>\n",
       "      <td>ده ال هو ازاي \\n</td>\n",
       "      <td>neg</td>\n",
       "    </tr>\n",
       "    <tr>\n",
       "      <th>78796</th>\n",
       "      <td>76805</td>\n",
       "      <td>عن فرحتها لما قلها زينو وعدها ينطرها وفى بوعده...</td>\n",
       "      <td>pos</td>\n",
       "    </tr>\n",
       "    <tr>\n",
       "      <th>15505</th>\n",
       "      <td>13514</td>\n",
       "      <td>الدليل الدامغ على أن محد محافظ على توازن حياة ...</td>\n",
       "      <td>pos</td>\n",
       "    </tr>\n",
       "    <tr>\n",
       "      <th>50431</th>\n",
       "      <td>48440</td>\n",
       "      <td>ايه كمية الكذب الي ع الصبح دي     \\n</td>\n",
       "      <td>pos</td>\n",
       "    </tr>\n",
       "  </tbody>\n",
       "</table>\n",
       "</div>"
      ],
      "text/plain": [
       "        Unnamed: 0                                               text  \\\n",
       "26024        24033                       يا صباح الجمال   ماشاء اله\\n   \n",
       "10085         8094  إعلم أن حاجتك إلى الصدقة أشد من حاجة من تصدق ع...   \n",
       "83914        81923  البديل الفعال لفياغرا    منتج امريكي طبيعي لحي...   \n",
       "19765        17774  حدث الان وانا ف العربية تحدث معى بأدب واخفض صو...   \n",
       "116538      114547  دورينا من جرف ل دحديره ماراح نتطور و المناصب ك...   \n",
       "17076        15085  لا تفوتوا الفرصة  تابعونا على صفحتنا و جاوبوا ...   \n",
       "94123        92132                                          فديتك  \\n   \n",
       "18203        16212  من ضمن المشاركين في الشاعر وفنان الكاريكاتير ا...   \n",
       "75774        73783                                   ده بالنهار بس \\n   \n",
       "8673          6682  هل تعاني من الضعف الجنسي  الآن الحل مالتي ماكا...   \n",
       "80794        78803  خدنى دائمآ على محمل الاستثناء فانا لا أشبه الب...   \n",
       "59070        57079                                     هديتك جاهزه \\n   \n",
       "96222        94231                            عشان باخذ عليك زاها  \\n   \n",
       "154574      152583  ۽   يقولون ماودعڪ قلت الفراق وصار الإنسان روحه...   \n",
       "127285      125294    المتفاعلين لكم هديه قريب ان شاءاله تستاهلون  \\n   \n",
       "8538          6547  مفيش حاجه بتعدل مزاجي غير ان الاسماعيلي يكسب  ...   \n",
       "124546      122555                                   ده ال هو ازاي \\n   \n",
       "78796        76805  عن فرحتها لما قلها زينو وعدها ينطرها وفى بوعده...   \n",
       "15505        13514  الدليل الدامغ على أن محد محافظ على توازن حياة ...   \n",
       "50431        48440               ايه كمية الكذب الي ع الصبح دي     \\n   \n",
       "\n",
       "       sentiment  \n",
       "26024        pos  \n",
       "10085        pos  \n",
       "83914        pos  \n",
       "19765        pos  \n",
       "116538       neg  \n",
       "17076        pos  \n",
       "94123        pos  \n",
       "18203        pos  \n",
       "75774        pos  \n",
       "8673         pos  \n",
       "80794        pos  \n",
       "59070        pos  \n",
       "96222        neg  \n",
       "154574       neg  \n",
       "127285       neg  \n",
       "8538         pos  \n",
       "124546       neg  \n",
       "78796        pos  \n",
       "15505        pos  \n",
       "50431        pos  "
      ]
     },
     "execution_count": 16,
     "metadata": {},
     "output_type": "execute_result"
    }
   ],
   "source": [
    "df.sample(20)"
   ]
  },
  {
   "cell_type": "code",
   "execution_count": 17,
   "metadata": {
    "id": "ddwpGw9IoCB7"
   },
   "outputs": [],
   "source": [
    "tokenizer = RegexpTokenizer(r'\\w+')\n",
    "df[\"text\"] = df[\"text\"].apply(tokenizer.tokenize)"
   ]
  },
  {
   "cell_type": "code",
   "execution_count": 42,
   "metadata": {
    "colab": {
     "base_uri": "https://localhost:8080/",
     "height": 677
    },
    "id": "fJq4z2mFvcaU",
    "outputId": "701ab8f1-92c6-4af7-8baf-5ac626633049"
   },
   "outputs": [
    {
     "data": {
      "text/html": [
       "<div>\n",
       "<style scoped>\n",
       "    .dataframe tbody tr th:only-of-type {\n",
       "        vertical-align: middle;\n",
       "    }\n",
       "\n",
       "    .dataframe tbody tr th {\n",
       "        vertical-align: top;\n",
       "    }\n",
       "\n",
       "    .dataframe thead th {\n",
       "        text-align: right;\n",
       "    }\n",
       "</style>\n",
       "<table border=\"1\" class=\"dataframe\">\n",
       "  <thead>\n",
       "    <tr style=\"text-align: right;\">\n",
       "      <th></th>\n",
       "      <th>Unnamed: 0</th>\n",
       "      <th>text</th>\n",
       "      <th>sentiment</th>\n",
       "    </tr>\n",
       "  </thead>\n",
       "  <tbody>\n",
       "    <tr>\n",
       "      <th>79858</th>\n",
       "      <td>77867</td>\n",
       "      <td>[يخرب, بيتك, ما, اغلظك, اي, رحمها, شوي, لهل, ا...</td>\n",
       "      <td>pos</td>\n",
       "    </tr>\n",
       "    <tr>\n",
       "      <th>122849</th>\n",
       "      <td>120858</td>\n",
       "      <td>[ليته, انا, الحب, حقه]</td>\n",
       "      <td>neg</td>\n",
       "    </tr>\n",
       "    <tr>\n",
       "      <th>48581</th>\n",
       "      <td>46590</td>\n",
       "      <td>[واضح, من, الهجة, والسب]</td>\n",
       "      <td>pos</td>\n",
       "    </tr>\n",
       "    <tr>\n",
       "      <th>55721</th>\n",
       "      <td>53730</td>\n",
       "      <td>[عجلة, طاقة, النجاح, والغنى, سريعة, تحب, السرع...</td>\n",
       "      <td>pos</td>\n",
       "    </tr>\n",
       "    <tr>\n",
       "      <th>129724</th>\n",
       "      <td>127733</td>\n",
       "      <td>[بجرب, هالماركة, و, اشوف, اخرتها, من, أظافري]</td>\n",
       "      <td>neg</td>\n",
       "    </tr>\n",
       "    <tr>\n",
       "      <th>138704</th>\n",
       "      <td>136713</td>\n",
       "      <td>[واله, قلناها, حيختارولو, بتروجيت, عشان, غياب,...</td>\n",
       "      <td>neg</td>\n",
       "    </tr>\n",
       "    <tr>\n",
       "      <th>136655</th>\n",
       "      <td>134664</td>\n",
       "      <td>[ساعدوني, اطلع, عياره, لبنت, اخوي]</td>\n",
       "      <td>neg</td>\n",
       "    </tr>\n",
       "    <tr>\n",
       "      <th>153747</th>\n",
       "      <td>151756</td>\n",
       "      <td>[تحدي, خسارة, الوزن, مع, المنتج, الأقوى, عالمي...</td>\n",
       "      <td>neg</td>\n",
       "    </tr>\n",
       "    <tr>\n",
       "      <th>126289</th>\n",
       "      <td>124298</td>\n",
       "      <td>[ليش, تلعبين]</td>\n",
       "      <td>neg</td>\n",
       "    </tr>\n",
       "    <tr>\n",
       "      <th>139537</th>\n",
       "      <td>137546</td>\n",
       "      <td>[ريتويت, لمتواجدين, الآن, زيادة, متابعين, بسرع...</td>\n",
       "      <td>neg</td>\n",
       "    </tr>\n",
       "    <tr>\n",
       "      <th>119306</th>\n",
       "      <td>117315</td>\n",
       "      <td>[من, الطف, حظوظي, كونك, صديقتي, والاحب, لقلب, ...</td>\n",
       "      <td>neg</td>\n",
       "    </tr>\n",
       "    <tr>\n",
       "      <th>48099</th>\n",
       "      <td>46108</td>\n",
       "      <td>[التسونامي, اوبري, وثلاثية, رائعة]</td>\n",
       "      <td>pos</td>\n",
       "    </tr>\n",
       "    <tr>\n",
       "      <th>128205</th>\n",
       "      <td>126214</td>\n",
       "      <td>[ل, م, حبين, الغزل, والكلام, الجميل, والطف, ال...</td>\n",
       "      <td>neg</td>\n",
       "    </tr>\n",
       "    <tr>\n",
       "      <th>10715</th>\n",
       "      <td>8724</td>\n",
       "      <td>[واله, كلنا]</td>\n",
       "      <td>pos</td>\n",
       "    </tr>\n",
       "    <tr>\n",
       "      <th>59377</th>\n",
       "      <td>57386</td>\n",
       "      <td>[حصريأ, منتج, من, شركة, فوريفر, لقدرة, الجنسية...</td>\n",
       "      <td>pos</td>\n",
       "    </tr>\n",
       "    <tr>\n",
       "      <th>50822</th>\n",
       "      <td>48831</td>\n",
       "      <td>[افاتاراتك, كلها, حلوه, وعسل, فشخ, وبحسك, هادي...</td>\n",
       "      <td>pos</td>\n",
       "    </tr>\n",
       "    <tr>\n",
       "      <th>12672</th>\n",
       "      <td>10681</td>\n",
       "      <td>[يجيب, اله, لقى, مثل, ماجاب, اله, مطر]</td>\n",
       "      <td>pos</td>\n",
       "    </tr>\n",
       "    <tr>\n",
       "      <th>149870</th>\n",
       "      <td>147879</td>\n",
       "      <td>[اذا, لقيتي, عطيني]</td>\n",
       "      <td>neg</td>\n",
       "    </tr>\n",
       "    <tr>\n",
       "      <th>38806</th>\n",
       "      <td>36815</td>\n",
       "      <td>[تذكرون, مباراة, الهلال, والنصر, الي, لقمناهم,...</td>\n",
       "      <td>pos</td>\n",
       "    </tr>\n",
       "    <tr>\n",
       "      <th>111660</th>\n",
       "      <td>109669</td>\n",
       "      <td>[فكرة, اني, اطلب, حاجه, من, حد, وميعملهاش, دي,...</td>\n",
       "      <td>neg</td>\n",
       "    </tr>\n",
       "  </tbody>\n",
       "</table>\n",
       "</div>"
      ],
      "text/plain": [
       "        Unnamed: 0                                               text  \\\n",
       "79858        77867  [يخرب, بيتك, ما, اغلظك, اي, رحمها, شوي, لهل, ا...   \n",
       "122849      120858                             [ليته, انا, الحب, حقه]   \n",
       "48581        46590                           [واضح, من, الهجة, والسب]   \n",
       "55721        53730  [عجلة, طاقة, النجاح, والغنى, سريعة, تحب, السرع...   \n",
       "129724      127733      [بجرب, هالماركة, و, اشوف, اخرتها, من, أظافري]   \n",
       "138704      136713  [واله, قلناها, حيختارولو, بتروجيت, عشان, غياب,...   \n",
       "136655      134664                 [ساعدوني, اطلع, عياره, لبنت, اخوي]   \n",
       "153747      151756  [تحدي, خسارة, الوزن, مع, المنتج, الأقوى, عالمي...   \n",
       "126289      124298                                      [ليش, تلعبين]   \n",
       "139537      137546  [ريتويت, لمتواجدين, الآن, زيادة, متابعين, بسرع...   \n",
       "119306      117315  [من, الطف, حظوظي, كونك, صديقتي, والاحب, لقلب, ...   \n",
       "48099        46108                 [التسونامي, اوبري, وثلاثية, رائعة]   \n",
       "128205      126214  [ل, م, حبين, الغزل, والكلام, الجميل, والطف, ال...   \n",
       "10715         8724                                       [واله, كلنا]   \n",
       "59377        57386  [حصريأ, منتج, من, شركة, فوريفر, لقدرة, الجنسية...   \n",
       "50822        48831  [افاتاراتك, كلها, حلوه, وعسل, فشخ, وبحسك, هادي...   \n",
       "12672        10681             [يجيب, اله, لقى, مثل, ماجاب, اله, مطر]   \n",
       "149870      147879                                [اذا, لقيتي, عطيني]   \n",
       "38806        36815  [تذكرون, مباراة, الهلال, والنصر, الي, لقمناهم,...   \n",
       "111660      109669  [فكرة, اني, اطلب, حاجه, من, حد, وميعملهاش, دي,...   \n",
       "\n",
       "       sentiment  \n",
       "79858        pos  \n",
       "122849       neg  \n",
       "48581        pos  \n",
       "55721        pos  \n",
       "129724       neg  \n",
       "138704       neg  \n",
       "136655       neg  \n",
       "153747       neg  \n",
       "126289       neg  \n",
       "139537       neg  \n",
       "119306       neg  \n",
       "48099        pos  \n",
       "128205       neg  \n",
       "10715        pos  \n",
       "59377        pos  \n",
       "50822        pos  \n",
       "12672        pos  \n",
       "149870       neg  \n",
       "38806        pos  \n",
       "111660       neg  "
      ]
     },
     "execution_count": 42,
     "metadata": {},
     "output_type": "execute_result"
    }
   ],
   "source": [
    "df.sample(20)"
   ]
  },
  {
   "cell_type": "code",
   "execution_count": 18,
   "metadata": {
    "colab": {
     "base_uri": "https://localhost:8080/"
    },
    "id": "ln-LVC83vnyp",
    "outputId": "f95aa7c5-c5ee-41de-fd35-d530419c273d"
   },
   "outputs": [
    {
     "name": "stderr",
     "output_type": "stream",
     "text": [
      "[nltk_data] Downloading package stopwords to C:\\Users\\abullah-\n",
      "[nltk_data]     pc\\AppData\\Roaming\\nltk_data...\n",
      "[nltk_data]   Package stopwords is already up-to-date!\n"
     ]
    }
   ],
   "source": [
    "\n",
    "nltk.download('stopwords')\n",
    "stopwords_list = stopwords.words('arabic')\n"
   ]
  },
  {
   "cell_type": "code",
   "execution_count": 19,
   "metadata": {
    "colab": {
     "base_uri": "https://localhost:8080/"
    },
    "id": "nWt5LkkYvy3i",
    "outputId": "d33b7b87-2b9d-464b-b0a5-194f69ce1b95"
   },
   "outputs": [
    {
     "data": {
      "text/plain": [
       "['إذا', 'إذما', 'إذن', 'أف']"
      ]
     },
     "execution_count": 19,
     "metadata": {},
     "output_type": "execute_result"
    }
   ],
   "source": [
    "stopwords_list[1:5]"
   ]
  },
  {
   "cell_type": "code",
   "execution_count": 20,
   "metadata": {
    "colab": {
     "base_uri": "https://localhost:8080/"
    },
    "id": "xwEpbRP9yDUh",
    "outputId": "2d5315ac-bac6-45f6-d686-de557949ee30"
   },
   "outputs": [
    {
     "name": "stdout",
     "output_type": "stream",
     "text": [
      "754\n",
      "<class 'list'>\n"
     ]
    }
   ],
   "source": [
    "print(len(stopwords_list))\n",
    "print(type(stopwords_list))"
   ]
  },
  {
   "cell_type": "code",
   "execution_count": 21,
   "metadata": {
    "colab": {
     "base_uri": "https://localhost:8080/",
     "height": 87
    },
    "id": "tzIm7Jfiyf8X",
    "outputId": "0569aff1-2962-464d-81d2-1a239b12b2ec"
   },
   "outputs": [
    {
     "data": {
      "text/plain": [
       "'إذ إذا إذما إذن أف أقل أكثر ألا إلا التي الذي الذين اللاتي اللائي اللتان اللتيا اللتين اللذان اللذين اللواتي إلى إليك إليكم إليكما إليكن أم أما أما إما أن إن إنا أنا أنت أنتم أنتما أنتن إنما إنه أنى أنى آه آها أو أولاء أولئك أوه آي أي أيها إي أين أين أينما إيه بخ بس بعد بعض بك بكم بكم بكما بكن بل بلى بما بماذا بمن بنا به بها بهم بهما بهن بي بين بيد تلك تلكم تلكما ته تي تين تينك ثم ثمة حاشا حبذا حتى حيث حيثما حين خلا دون ذا ذات ذاك ذان ذانك ذلك ذلكم ذلكما ذلكن ذه ذو ذوا ذواتا ذواتي ذي ذين ذينك ريث سوف سوى شتان عدا عسى عل على عليك عليه عما عن عند غير فإذا فإن فلا فمن في فيم فيما فيه فيها قد كأن كأنما كأي كأين كذا كذلك كل كلا كلاهما كلتا كلما كليكما كليهما كم كم كما كي كيت كيف كيفما لا لاسيما لدى لست لستم لستما لستن لسن لسنا لعل لك لكم لكما لكن لكنما لكي لكيلا لم لما لن لنا له لها لهم لهما لهن لو لولا لوما لي لئن ليت ليس ليسا ليست ليستا ليسوا ما ماذا متى مذ مع مما ممن من منه منها منذ مه مهما نحن نحو نعم ها هاتان هاته هاتي هاتين هاك هاهنا هذا هذان هذه هذي هذين هكذا هل هلا هم هما هن هنا هناك هنالك هو هؤلاء هي هيا هيت هيهات والذي والذين وإذ وإذا وإن ولا ولكن ولو وما ومن وهو يا أبٌ أخٌ حمٌ فو أنتِ يناير فبراير مارس أبريل مايو يونيو يوليو أغسطس سبتمبر أكتوبر نوفمبر ديسمبر جانفي فيفري مارس أفريل ماي جوان جويلية أوت كانون شباط آذار نيسان أيار حزيران تموز آب أيلول تشرين دولار دينار ريال درهم ليرة جنيه قرش مليم فلس هللة سنتيم يورو ين يوان شيكل واحد اثنان ثلاثة أربعة خمسة ستة سبعة ثمانية تسعة عشرة أحد اثنا اثني إحدى ثلاث أربع خمس ست سبع ثماني تسع عشر ثمان سبت أحد اثنين ثلاثاء أربعاء خميس جمعة أول ثان ثاني ثالث رابع خامس سادس سابع ثامن تاسع عاشر حادي أ ب ت ث ج ح خ د ذ ر ز س ش ص ض ط ظ ع غ ف ق ك ل م ن ه و ي ء ى آ ؤ ئ أ ة ألف باء تاء ثاء جيم حاء خاء دال ذال راء زاي سين شين صاد ضاد طاء ظاء عين غين فاء قاف كاف لام ميم نون هاء واو ياء همزة ي نا ك كن ه إياه إياها إياهما إياهم إياهن إياك إياكما إياكم إياك إياكن إياي إيانا أولالك تانِ تانِك تِه تِي تَيْنِ ثمّ ثمّة ذانِ ذِه ذِي ذَيْنِ هَؤلاء هَاتانِ هَاتِه هَاتِي هَاتَيْنِ هَذا هَذانِ هَذِه هَذِي هَذَيْنِ الألى الألاء أل أنّى أيّ ّأيّان أنّى أيّ ّأيّان ذيت كأيّ كأيّن بضع فلان وا آمينَ آهِ آهٍ آهاً أُفٍّ أُفٍّ أفٍّ أمامك أمامكَ أوّهْ إلَيْكَ إلَيْكَ إليكَ إليكنّ إيهٍ بخٍ بسّ بَسْ بطآن بَلْهَ حاي حَذارِ حيَّ حيَّ دونك رويدك سرعان شتانَ شَتَّانَ صهْ صهٍ طاق طَق عَدَسْ كِخ مكانَك مكانَك مكانَك مكانكم مكانكما مكانكنّ نَخْ هاكَ هَجْ هلم هيّا هَيْهات وا واهاً وراءَك وُشْكَانَ وَيْ يفعلان تفعلان يفعلون تفعلون تفعلين اتخذ ألفى تخذ ترك تعلَّم جعل حجا حبيب خال حسب خال درى رأى زعم صبر ظنَّ عدَّ علم غادر ذهب وجد ورد وهب أسكن أطعم أعطى رزق زود سقى كسا أخبر أرى أعلم أنبأ حدَث خبَّر نبَّا أفعل به ما أفعله بئس ساء طالما قلما لات لكنَّ ءَ أجل إذاً أمّا إمّا إنَّ أنًّ أى إى أيا ب ثمَّ جلل جير رُبَّ س علًّ ف كأنّ كلَّا كى ل لات لعلَّ لكنَّ لكنَّ م نَّ هلّا وا أل إلّا ت ك لمّا ن ه و ا ي تجاه تلقاء جميع حسب سبحان شبه لعمر مثل معاذ أبو أخو حمو فو مئة مئتان ثلاثمئة أربعمئة خمسمئة ستمئة سبعمئة ثمنمئة تسعمئة مائة ثلاثمائة أربعمائة خمسمائة ستمائة سبعمائة ثمانمئة تسعمائة عشرون ثلاثون اربعون خمسون ستون سبعون ثمانون تسعون عشرين ثلاثين اربعين خمسين ستين سبعين ثمانين تسعين بضع نيف أجمع جميع عامة عين نفس لا سيما أصلا أهلا أيضا بؤسا بعدا بغتة تعسا حقا حمدا خلافا خاصة دواليك سحقا سرا سمعا صبرا صدقا صراحة طرا عجبا عيانا غالبا فرادى فضلا قاطبة كثيرا لبيك معاذ أبدا إزاء أصلا الآن أمد أمس آنفا آناء أنّى أول أيّان تارة ثمّ ثمّة حقا صباح مساء ضحوة عوض غدا غداة قطّ كلّما لدن لمّا مرّة قبل خلف أمام فوق تحت يمين شمال ارتدّ استحال أصبح أضحى آض أمسى انقلب بات تبدّل تحوّل حار رجع راح صار ظلّ عاد غدا كان ما انفك ما برح مادام مازال مافتئ ابتدأ أخذ اخلولق أقبل انبرى أنشأ أوشك جعل حرى شرع طفق علق قام كرب كاد هبّ'"
      ]
     },
     "execution_count": 21,
     "metadata": {},
     "output_type": "execute_result"
    }
   ],
   "source": [
    "Strted_stopwords_list = ' '.join([str(elem) for elem in stopwords_list]) \n",
    "Strted_stopwords_list"
   ]
  },
  {
   "cell_type": "code",
   "execution_count": 22,
   "metadata": {
    "id": "euHayPSoyqsF"
   },
   "outputs": [],
   "source": [
    "df[\"text\"]=df[\"text\"].apply(lambda x: [item for item in x if item not in stopwords_list])"
   ]
  },
  {
   "cell_type": "code",
   "execution_count": 48,
   "metadata": {
    "colab": {
     "base_uri": "https://localhost:8080/"
    },
    "id": "TVfI3I4wzSPW",
    "outputId": "a0640364-51e7-485d-9525-08835111f744"
   },
   "outputs": [
    {
     "name": "stdout",
     "output_type": "stream",
     "text": [
      "1420233 words total, with a vocabulary size of 130981\n",
      "Max sentence length is 123\n"
     ]
    }
   ],
   "source": [
    "all_words = [word for tokens in df[\"text\"] for word in tokens]\n",
    "sentence_lengths = [len(tokens) for tokens in df[\"text\"]]\n",
    "\n",
    "VOCAB = sorted(list(set(all_words)))\n",
    "\n",
    "print(\"%s words total, with a vocabulary size of %s\" % (len(all_words), len(VOCAB)))\n",
    "print(\"Max sentence length is %s\" % max(sentence_lengths))"
   ]
  },
  {
   "cell_type": "code",
   "execution_count": 49,
   "metadata": {
    "colab": {
     "base_uri": "https://localhost:8080/"
    },
    "id": "G11_Dorvzz9E",
    "outputId": "34969456-9574-460d-856d-d141c961f0cc"
   },
   "outputs": [
    {
     "data": {
      "text/plain": [
       "[('اله', 14799),\n",
       " ('الي', 10755),\n",
       " ('انا', 6848),\n",
       " ('كيلو', 5184),\n",
       " ('واله', 5052),\n",
       " ('ان', 4822),\n",
       " ('50', 4625),\n",
       " ('رتويت', 3822),\n",
       " ('اليوم', 3731),\n",
       " ('يوم', 3610)]"
      ]
     },
     "execution_count": 49,
     "metadata": {},
     "output_type": "execute_result"
    }
   ],
   "source": [
    "counter = Counter(all_words)\n",
    "#??????\n",
    "counter.most_common(10)"
   ]
  },
  {
   "cell_type": "code",
   "execution_count": 50,
   "metadata": {
    "id": "9qe0d1GG0pY1"
   },
   "outputs": [],
   "source": [
    "counted_freq = Counter(all_words)\n",
    "\n",
    "words = []\n",
    "freq = []\n",
    "for letter, count in counted_freq.most_common(10):\n",
    "    words.append(letter)\n",
    "    freq.append(count)"
   ]
  },
  {
   "cell_type": "code",
   "execution_count": 51,
   "metadata": {
    "colab": {
     "base_uri": "https://localhost:8080/",
     "height": 638
    },
    "id": "ukdmvlSQ1K7r",
    "outputId": "783f3196-c8dc-4efc-e3a2-305e8d977c60"
   },
   "outputs": [
    {
     "data": {
      "text/plain": [
       "<BarContainer object of 10 artists>"
      ]
     },
     "execution_count": 51,
     "metadata": {},
     "output_type": "execute_result"
    },
    {
     "data": {
      "image/png": "[encoded data removed]",
      "text/plain": [
       "<Figure size 1440x720 with 1 Axes>"
      ]
     },
     "metadata": {
      "needs_background": "light"
     },
     "output_type": "display_data"
    }
   ],
   "source": [
    "rcParams['figure.figsize'] = 20, 10\n",
    "\n",
    "plt.title('Top words in data set')\n",
    "plt.xlabel('freq')\n",
    "plt.ylabel('Words')\n",
    "plt.barh(words, freq)"
   ]
  },
  {
   "cell_type": "code",
   "execution_count": 52,
   "metadata": {
    "colab": {
     "base_uri": "https://localhost:8080/"
    },
    "id": "_tUBJ18t1uPw",
    "outputId": "025e53d4-7031-447a-8270-b2d090f3f43c"
   },
   "outputs": [
    {
     "name": "stdout",
     "output_type": "stream",
     "text": [
      "the number of positive tweets is : 93144\n",
      "the number of negaitive tweets is : 63263\n"
     ]
    }
   ],
   "source": [
    "mask = (df.sentiment =='pos')\n",
    "print(\"the number of positive tweets is :\",df[mask].sentiment.count())\n",
    "mask = (df.sentiment =='neg')\n",
    "print(\"the number of negaitive tweets is :\",df[mask].sentiment.count())"
   ]
  },
  {
   "cell_type": "code",
   "execution_count": 23,
   "metadata": {
    "colab": {
     "base_uri": "https://localhost:8080/",
     "height": 236
    },
    "id": "LC3MjF0T7VkW",
    "outputId": "218d00de-f0e7-419c-a2c7-91b0ec5d1e77"
   },
   "outputs": [
    {
     "data": {
      "text/html": [
       "<div>\n",
       "<style scoped>\n",
       "    .dataframe tbody tr th:only-of-type {\n",
       "        vertical-align: middle;\n",
       "    }\n",
       "\n",
       "    .dataframe tbody tr th {\n",
       "        vertical-align: top;\n",
       "    }\n",
       "\n",
       "    .dataframe thead th {\n",
       "        text-align: right;\n",
       "    }\n",
       "</style>\n",
       "<table border=\"1\" class=\"dataframe\">\n",
       "  <thead>\n",
       "    <tr style=\"text-align: right;\">\n",
       "      <th></th>\n",
       "      <th>10</th>\n",
       "      <th>12</th>\n",
       "      <th>13</th>\n",
       "      <th>15</th>\n",
       "      <th>18</th>\n",
       "      <th>20</th>\n",
       "      <th>2018</th>\n",
       "      <th>204</th>\n",
       "      <th>250</th>\n",
       "      <th>30</th>\n",
       "      <th>...</th>\n",
       "      <th>ڪان</th>\n",
       "      <th>ڪل</th>\n",
       "      <th>گا</th>\n",
       "      <th>گل</th>\n",
       "      <th>گنت</th>\n",
       "      <th>ۆفاء</th>\n",
       "      <th>ۆم</th>\n",
       "      <th>ۆن</th>\n",
       "      <th>ۈاله</th>\n",
       "      <th>یومكم</th>\n",
       "    </tr>\n",
       "  </thead>\n",
       "  <tbody>\n",
       "    <tr>\n",
       "      <th>0</th>\n",
       "      <td>0.0</td>\n",
       "      <td>0.0</td>\n",
       "      <td>0.0</td>\n",
       "      <td>0.0</td>\n",
       "      <td>0.0</td>\n",
       "      <td>0.0</td>\n",
       "      <td>0.0</td>\n",
       "      <td>0.0</td>\n",
       "      <td>0.0</td>\n",
       "      <td>0.0</td>\n",
       "      <td>...</td>\n",
       "      <td>0.0</td>\n",
       "      <td>0.0</td>\n",
       "      <td>0.0</td>\n",
       "      <td>0.0</td>\n",
       "      <td>0.0</td>\n",
       "      <td>0.0</td>\n",
       "      <td>0.0</td>\n",
       "      <td>0.0</td>\n",
       "      <td>0.0</td>\n",
       "      <td>0.0</td>\n",
       "    </tr>\n",
       "    <tr>\n",
       "      <th>1</th>\n",
       "      <td>0.0</td>\n",
       "      <td>0.0</td>\n",
       "      <td>0.0</td>\n",
       "      <td>0.0</td>\n",
       "      <td>0.0</td>\n",
       "      <td>0.0</td>\n",
       "      <td>0.0</td>\n",
       "      <td>0.0</td>\n",
       "      <td>0.0</td>\n",
       "      <td>0.0</td>\n",
       "      <td>...</td>\n",
       "      <td>0.0</td>\n",
       "      <td>0.0</td>\n",
       "      <td>0.0</td>\n",
       "      <td>0.0</td>\n",
       "      <td>0.0</td>\n",
       "      <td>0.0</td>\n",
       "      <td>0.0</td>\n",
       "      <td>0.0</td>\n",
       "      <td>0.0</td>\n",
       "      <td>0.0</td>\n",
       "    </tr>\n",
       "    <tr>\n",
       "      <th>2</th>\n",
       "      <td>0.0</td>\n",
       "      <td>0.0</td>\n",
       "      <td>0.0</td>\n",
       "      <td>0.0</td>\n",
       "      <td>0.0</td>\n",
       "      <td>0.0</td>\n",
       "      <td>0.0</td>\n",
       "      <td>0.0</td>\n",
       "      <td>0.0</td>\n",
       "      <td>0.0</td>\n",
       "      <td>...</td>\n",
       "      <td>0.0</td>\n",
       "      <td>0.0</td>\n",
       "      <td>0.0</td>\n",
       "      <td>0.0</td>\n",
       "      <td>0.0</td>\n",
       "      <td>0.0</td>\n",
       "      <td>0.0</td>\n",
       "      <td>0.0</td>\n",
       "      <td>0.0</td>\n",
       "      <td>0.0</td>\n",
       "    </tr>\n",
       "    <tr>\n",
       "      <th>3</th>\n",
       "      <td>0.0</td>\n",
       "      <td>0.0</td>\n",
       "      <td>0.0</td>\n",
       "      <td>0.0</td>\n",
       "      <td>0.0</td>\n",
       "      <td>0.0</td>\n",
       "      <td>0.0</td>\n",
       "      <td>0.0</td>\n",
       "      <td>0.0</td>\n",
       "      <td>0.0</td>\n",
       "      <td>...</td>\n",
       "      <td>0.0</td>\n",
       "      <td>0.0</td>\n",
       "      <td>0.0</td>\n",
       "      <td>0.0</td>\n",
       "      <td>0.0</td>\n",
       "      <td>0.0</td>\n",
       "      <td>0.0</td>\n",
       "      <td>0.0</td>\n",
       "      <td>0.0</td>\n",
       "      <td>0.0</td>\n",
       "    </tr>\n",
       "    <tr>\n",
       "      <th>4</th>\n",
       "      <td>0.0</td>\n",
       "      <td>0.0</td>\n",
       "      <td>0.0</td>\n",
       "      <td>0.0</td>\n",
       "      <td>0.0</td>\n",
       "      <td>0.0</td>\n",
       "      <td>0.0</td>\n",
       "      <td>0.0</td>\n",
       "      <td>0.0</td>\n",
       "      <td>0.0</td>\n",
       "      <td>...</td>\n",
       "      <td>0.0</td>\n",
       "      <td>0.0</td>\n",
       "      <td>0.0</td>\n",
       "      <td>0.0</td>\n",
       "      <td>0.0</td>\n",
       "      <td>0.0</td>\n",
       "      <td>0.0</td>\n",
       "      <td>0.0</td>\n",
       "      <td>0.0</td>\n",
       "      <td>0.0</td>\n",
       "    </tr>\n",
       "  </tbody>\n",
       "</table>\n",
       "<p>5 rows × 10000 columns</p>\n",
       "</div>"
      ],
      "text/plain": [
       "    10   12   13   15   18   20  2018  204  250   30  ...  ڪان   ڪل   گا   گل  \\\n",
       "0  0.0  0.0  0.0  0.0  0.0  0.0   0.0  0.0  0.0  0.0  ...  0.0  0.0  0.0  0.0   \n",
       "1  0.0  0.0  0.0  0.0  0.0  0.0   0.0  0.0  0.0  0.0  ...  0.0  0.0  0.0  0.0   \n",
       "2  0.0  0.0  0.0  0.0  0.0  0.0   0.0  0.0  0.0  0.0  ...  0.0  0.0  0.0  0.0   \n",
       "3  0.0  0.0  0.0  0.0  0.0  0.0   0.0  0.0  0.0  0.0  ...  0.0  0.0  0.0  0.0   \n",
       "4  0.0  0.0  0.0  0.0  0.0  0.0   0.0  0.0  0.0  0.0  ...  0.0  0.0  0.0  0.0   \n",
       "\n",
       "   گنت  ۆفاء   ۆم   ۆن  ۈاله  یومكم  \n",
       "0  0.0   0.0  0.0  0.0   0.0    0.0  \n",
       "1  0.0   0.0  0.0  0.0   0.0    0.0  \n",
       "2  0.0   0.0  0.0  0.0   0.0    0.0  \n",
       "3  0.0   0.0  0.0  0.0   0.0    0.0  \n",
       "4  0.0   0.0  0.0  0.0   0.0    0.0  \n",
       "\n",
       "[5 rows x 10000 columns]"
      ]
     },
     "execution_count": 23,
     "metadata": {},
     "output_type": "execute_result"
    }
   ],
   "source": [
    "\n",
    "word_vectorizer = TfidfVectorizer(sublinear_tf=True,strip_accents='unicode',analyzer='word',ngram_range=(1, 1),max_features =10000)\n",
    "\n",
    "unigramdataGet= word_vectorizer.fit_transform(df['text'].astype('str'))\n",
    "unigramdataGet = unigramdataGet.toarray()\n",
    "\n",
    "vocab = word_vectorizer.get_feature_names()\n",
    "unigramdata_features=pd.DataFrame(np.round(unigramdataGet, 1), columns=vocab)\n",
    "unigramdata_features[unigramdata_features>0] = 1\n",
    "\n",
    "unigramdata_features.head()"
   ]
  },
  {
   "cell_type": "code",
   "execution_count": 24,
   "metadata": {
    "id": "ALQ9oj7oE8n4"
   },
   "outputs": [],
   "source": [
    "pro= preprocessing.LabelEncoder()\n",
    "encpro=pro.fit_transform(df['sentiment'])\n",
    "df['sentiment'] = encpro"
   ]
  },
  {
   "cell_type": "code",
   "execution_count": 25,
   "metadata": {
    "colab": {
     "base_uri": "https://localhost:8080/",
     "height": 363
    },
    "id": "KXgxmXwEFgAs",
    "outputId": "78769276-1e94-4582-bffd-3d38e856fa93"
   },
   "outputs": [
    {
     "data": {
      "text/html": [
       "<div>\n",
       "<style scoped>\n",
       "    .dataframe tbody tr th:only-of-type {\n",
       "        vertical-align: middle;\n",
       "    }\n",
       "\n",
       "    .dataframe tbody tr th {\n",
       "        vertical-align: top;\n",
       "    }\n",
       "\n",
       "    .dataframe thead th {\n",
       "        text-align: right;\n",
       "    }\n",
       "</style>\n",
       "<table border=\"1\" class=\"dataframe\">\n",
       "  <thead>\n",
       "    <tr style=\"text-align: right;\">\n",
       "      <th></th>\n",
       "      <th>Unnamed: 0</th>\n",
       "      <th>text</th>\n",
       "      <th>sentiment</th>\n",
       "    </tr>\n",
       "  </thead>\n",
       "  <tbody>\n",
       "    <tr>\n",
       "      <th>138781</th>\n",
       "      <td>136790</td>\n",
       "      <td>[جمعتك, طيبه, حاجه]</td>\n",
       "      <td>0</td>\n",
       "    </tr>\n",
       "    <tr>\n",
       "      <th>30710</th>\n",
       "      <td>28719</td>\n",
       "      <td>[نوش, جان]</td>\n",
       "      <td>1</td>\n",
       "    </tr>\n",
       "    <tr>\n",
       "      <th>135189</th>\n",
       "      <td>133198</td>\n",
       "      <td>[بصفقك, وامسح, الصوره, جهازك]</td>\n",
       "      <td>0</td>\n",
       "    </tr>\n",
       "    <tr>\n",
       "      <th>62738</th>\n",
       "      <td>60747</td>\n",
       "      <td>[ٲسمگ, شاشة, الهاتف, يخلق, بداخلي, السعادة, فڪ...</td>\n",
       "      <td>1</td>\n",
       "    </tr>\n",
       "    <tr>\n",
       "      <th>149883</th>\n",
       "      <td>147892</td>\n",
       "      <td>[هوس, الارميز, ربي, رايحين, لمقالة, مخرج, فيلم...</td>\n",
       "      <td>0</td>\n",
       "    </tr>\n",
       "    <tr>\n",
       "      <th>133007</th>\n",
       "      <td>131016</td>\n",
       "      <td>[ياخي, اذا, مب, عاجبكم, ليوناردو, طيروه, الشتو...</td>\n",
       "      <td>0</td>\n",
       "    </tr>\n",
       "    <tr>\n",
       "      <th>95954</th>\n",
       "      <td>93963</td>\n",
       "      <td>[جتني, مخالفة, قطع, اشارة, وانا, وقتها, شفت, ا...</td>\n",
       "      <td>0</td>\n",
       "    </tr>\n",
       "    <tr>\n",
       "      <th>489</th>\n",
       "      <td>489</td>\n",
       "      <td>[اله, يحرم, حدا, العائلة, الدافية, والذرية, ال...</td>\n",
       "      <td>1</td>\n",
       "    </tr>\n",
       "    <tr>\n",
       "      <th>5467</th>\n",
       "      <td>3476</td>\n",
       "      <td>[شكرا, ليدر, مجود]</td>\n",
       "      <td>1</td>\n",
       "    </tr>\n",
       "    <tr>\n",
       "      <th>117296</th>\n",
       "      <td>115305</td>\n",
       "      <td>[تلعبي, ورايا]</td>\n",
       "      <td>0</td>\n",
       "    </tr>\n",
       "  </tbody>\n",
       "</table>\n",
       "</div>"
      ],
      "text/plain": [
       "        Unnamed: 0                                               text  \\\n",
       "138781      136790                                [جمعتك, طيبه, حاجه]   \n",
       "30710        28719                                         [نوش, جان]   \n",
       "135189      133198                      [بصفقك, وامسح, الصوره, جهازك]   \n",
       "62738        60747  [ٲسمگ, شاشة, الهاتف, يخلق, بداخلي, السعادة, فڪ...   \n",
       "149883      147892  [هوس, الارميز, ربي, رايحين, لمقالة, مخرج, فيلم...   \n",
       "133007      131016  [ياخي, اذا, مب, عاجبكم, ليوناردو, طيروه, الشتو...   \n",
       "95954        93963  [جتني, مخالفة, قطع, اشارة, وانا, وقتها, شفت, ا...   \n",
       "489            489  [اله, يحرم, حدا, العائلة, الدافية, والذرية, ال...   \n",
       "5467          3476                                 [شكرا, ليدر, مجود]   \n",
       "117296      115305                                     [تلعبي, ورايا]   \n",
       "\n",
       "        sentiment  \n",
       "138781          0  \n",
       "30710           1  \n",
       "135189          0  \n",
       "62738           1  \n",
       "149883          0  \n",
       "133007          0  \n",
       "95954           0  \n",
       "489             1  \n",
       "5467            1  \n",
       "117296          0  "
      ]
     },
     "execution_count": 25,
     "metadata": {},
     "output_type": "execute_result"
    }
   ],
   "source": [
    "df.sample(10)"
   ]
  },
  {
   "cell_type": "code",
   "execution_count": 26,
   "metadata": {
    "id": "tEtkGEqKGMpQ"
   },
   "outputs": [],
   "source": [
    "y=df['sentiment']\n",
    "X=unigramdata_features"
   ]
  },
  {
   "cell_type": "code",
   "execution_count": 27,
   "metadata": {
    "id": "JKDG2z6HGqLl"
   },
   "outputs": [],
   "source": [
    "#??????\n",
    "X_train, X_test, y_train, y_test = train_test_split(X, y, test_size=0.20, random_state=2)"
   ]
  },
  {
   "cell_type": "code",
   "execution_count": 58,
   "metadata": {
    "colab": {
     "base_uri": "https://localhost:8080/"
    },
    "id": "6zNqOkuEG1P1",
    "outputId": "66314317-df88-461a-9ffe-db3b944f8bc9"
   },
   "outputs": [
    {
     "data": {
      "text/plain": [
       "GaussianNB()"
      ]
     },
     "execution_count": 58,
     "metadata": {},
     "output_type": "execute_result"
    }
   ],
   "source": [
    "nb=GaussianNB()\n",
    "nb= nb.fit(X_train , y_train)\n",
    "nb"
   ]
  },
  {
   "cell_type": "code",
   "execution_count": 59,
   "metadata": {
    "colab": {
     "base_uri": "https://localhost:8080/"
    },
    "id": "Zxs9JaUXHOaj",
    "outputId": "c1aba2a7-cb74-4099-ed97-9e84a7bdf24d"
   },
   "outputs": [
    {
     "name": "stdout",
     "output_type": "stream",
     "text": [
      "Accuracy= 0.603 %\n",
      "Precision 0.55 %\n",
      "Recall 0.41 %\n",
      "F1 0.55 %\n"
     ]
    }
   ],
   "source": [
    "y_pred = nb.predict(X_test)\n",
    "nb_1=nb.score(X_test, y_test)\n",
    "print('Accuracy= {:.3f}'.format(nb.score(X_test, y_test)),'%')\n",
    "print('Precision',round(f1_score(y_test, y_pred),2),'%')\n",
    "print('Recall',round(recall_score(y_test, y_pred),2),'%')\n",
    "rf_f1=round(f1_score(y_test, y_pred),2)\n",
    "print('F1',round(f1_score(y_test, y_pred),2),'%')\n"
   ]
  },
  {
   "cell_type": "code",
   "execution_count": 28,
   "metadata": {
    "colab": {
     "base_uri": "https://localhost:8080/"
    },
    "id": "7mK2NcKOICaG",
    "outputId": "a2cd68af-157d-45e8-defe-b1a982c08dc2"
   },
   "outputs": [
    {
     "data": {
      "text/plain": [
       "RidgeClassifier()"
      ]
     },
     "execution_count": 28,
     "metadata": {},
     "output_type": "execute_result"
    }
   ],
   "source": [
    "RC= RidgeClassifier()\n",
    "RC= RC.fit(X_train , y_train)\n",
    "RC"
   ]
  },
  {
   "cell_type": "code",
   "execution_count": 29,
   "metadata": {
    "colab": {
     "base_uri": "https://localhost:8080/"
    },
    "id": "uIuwAQcjIFtW",
    "outputId": "d9c24b90-6ef8-4316-a621-5e9e3d1e78f9"
   },
   "outputs": [
    {
     "name": "stdout",
     "output_type": "stream",
     "text": [
      "Accuracy= 0.725 %\n",
      "Precision 0.79 %\n",
      "Recall 0.85 %\n",
      "F1 0.79 %\n"
     ]
    }
   ],
   "source": [
    "y_pred = RC.predict(X_test)\n",
    "rc_1=RC.score(X_test, y_test)\n",
    "print('Accuracy= {:.3f}'.format(RC.score(X_test, y_test)),'%')\n",
    "print('Precision',round(f1_score(y_test, y_pred),2),'%')\n",
    "print('Recall',round(recall_score(y_test, y_pred),2),'%')\n",
    "rf_f1=round(f1_score(y_test, y_pred),2)\n",
    "print('F1',round(f1_score(y_test, y_pred),2),'%')"
   ]
  },
  {
   "cell_type": "code",
   "execution_count": 62,
   "metadata": {
    "colab": {
     "base_uri": "https://localhost:8080/"
    },
    "id": "mQCf9M4FIltq",
    "outputId": "c14cfe66-8516-4eeb-c8d1-af7eeeaeb32f"
   },
   "outputs": [
    {
     "data": {
      "text/plain": [
       "LogisticRegression(C=1)"
      ]
     },
     "execution_count": 62,
     "metadata": {},
     "output_type": "execute_result"
    }
   ],
   "source": [
    "LR= LogisticRegression(penalty = 'l2', C = 1)\n",
    "LR= LR.fit(X_train , y_train)\n",
    "LR"
   ]
  },
  {
   "cell_type": "code",
   "execution_count": 63,
   "metadata": {
    "colab": {
     "base_uri": "https://localhost:8080/"
    },
    "id": "nAYUcloSIsxA",
    "outputId": "52e48328-950e-40b0-851f-c575e8c9f7a9"
   },
   "outputs": [
    {
     "name": "stdout",
     "output_type": "stream",
     "text": [
      "Accuracy= 0.727 %\n",
      "Precision 0.79 %\n",
      "Recall 0.86 %\n",
      "F1 0.79 %\n"
     ]
    }
   ],
   "source": [
    "y_pred = LR.predict(X_test)\n",
    "lr_1=LR.score(X_test, y_test)\n",
    "print('Accuracy= {:.3f}'.format(LR.score(X_test, y_test)),'%')\n",
    "print('Precision',round(f1_score(y_test, y_pred),2),'%')\n",
    "print('Recall',round(recall_score(y_test, y_pred),2),'%')\n",
    "rf_f1=round(f1_score(y_test, y_pred),2)\n",
    "print('F1',round(f1_score(y_test, y_pred),2),'%')"
   ]
  },
  {
   "cell_type": "code",
   "execution_count": 64,
   "metadata": {
    "colab": {
     "base_uri": "https://localhost:8080/"
    },
    "id": "zLQrwi4kI7BC",
    "outputId": "86232032-5ae7-488b-d257-dc74a1788b37"
   },
   "outputs": [
    {
     "name": "stdout",
     "output_type": "stream",
     "text": [
      "\n",
      "\n",
      "Comparison of all algorithms on F1 score\n",
      "+-------------------------------+----------+\n",
      "|             Model             | Accuracy |\n",
      "+-------------------------------+----------+\n",
      "|     Naive Bayes Algorithm     |   0.6    |\n",
      "|   Ridge Classifier Algorithm  |   0.73   |\n",
      "| Logistic Regression Algorithm |   0.73   |\n",
      "+-------------------------------+----------+\n",
      "\n",
      "\n"
     ]
    }
   ],
   "source": [
    "x = PrettyTable()\n",
    "print('\\n')\n",
    "print(\"Comparison of all algorithms on F1 score\")\n",
    "x.field_names = [\"Model\", \"Accuracy\"]\n",
    "\n",
    "\n",
    "x.add_row([\"Naive Bayes Algorithm\", round(nb_1,2)])\n",
    "x.add_row([\"Ridge Classifier Algorithm\",  round(rc_1,2)])\n",
    "x.add_row([\"Logistic Regression Algorithm\", round(lr_1,2)])\n",
    "\n",
    "print(x)\n",
    "print('\\n')"
   ]
  },
  {
   "cell_type": "code",
   "execution_count": 30,
   "metadata": {
    "colab": {
     "base_uri": "https://localhost:8080/"
    },
    "id": "K25dWMjWKobV",
    "outputId": "02e8d813-9d48-494e-fe24-102543c50388"
   },
   "outputs": [
    {
     "data": {
      "text/plain": [
       "LogisticRegression(C=1)"
      ]
     },
     "execution_count": 30,
     "metadata": {},
     "output_type": "execute_result"
    }
   ],
   "source": [
    "RC =LogisticRegression(penalty = 'l2', C = 1)\n",
    "RC.fit(X,y)"
   ]
  },
  {
   "cell_type": "code",
   "execution_count": 46,
   "metadata": {
    "id": "ZdF0bTLfKIXZ"
   },
   "outputs": [],
   "source": [
    "tv=['عبدالله رجال طيب']\n",
    "tv2=['ابي اقتل  ']"
   ]
  },
  {
   "cell_type": "code",
   "execution_count": 43,
   "metadata": {
    "colab": {
     "base_uri": "https://localhost:8080/"
    },
    "id": "PfoTUPpeLC9b",
    "outputId": "4a88ed8d-589e-498a-95b9-5e349e0126b8"
   },
   "outputs": [
    {
     "name": "stdout",
     "output_type": "stream",
     "text": [
      "['عبدالله رجال طيب']   Prediction\n",
      "0        pos\n"
     ]
    }
   ],
   "source": [
    "pred=RC.predict(word_vectorizer.transform(tv))\n",
    "pred=pro.inverse_transform(pred)\n",
    "prediction=pd.DataFrame(pred, columns=['Prediction']) \n",
    "print (tv,prediction)"
   ]
  },
  {
   "cell_type": "code",
   "execution_count": 47,
   "metadata": {
    "colab": {
     "base_uri": "https://localhost:8080/"
    },
    "id": "iukXvFHaLlAR",
    "outputId": "27c3fd26-50c5-4d1d-a9b3-2677b5def76e"
   },
   "outputs": [
    {
     "name": "stdout",
     "output_type": "stream",
     "text": [
      "['ابي اقتل  ']   Prediction\n",
      "0        neg\n"
     ]
    }
   ],
   "source": [
    "pred=RC.predict(word_vectorizer.transform(tv2))\n",
    "pred=pro.inverse_transform(pred)\n",
    "prediction=pd.DataFrame(pred, columns=['Prediction']) \n",
    "print (tv2,prediction)"
   ]
  },
  {
   "cell_type": "code",
   "execution_count": 49,
   "metadata": {},
   "outputs": [
    {
     "ename": "NameError",
     "evalue": "name 'classification_report' is not defined",
     "output_type": "error",
     "traceback": [
      "\u001b[1;31m---------------------------------------------------------------------------\u001b[0m",
      "\u001b[1;31mNameError\u001b[0m                                 Traceback (most recent call last)",
      "\u001b[1;32m~\\AppData\\Local\\Temp\\ipykernel_21184\\3142074381.py\u001b[0m in \u001b[0;36m<module>\u001b[1;34m\u001b[0m\n\u001b[0;32m      1\u001b[0m \u001b[1;31m#طريقة الريبورت\u001b[0m\u001b[1;33m\u001b[0m\u001b[1;33m\u001b[0m\u001b[1;33m\u001b[0m\u001b[0m\n\u001b[1;32m----> 2\u001b[1;33m \u001b[0mprint\u001b[0m\u001b[1;33m(\u001b[0m\u001b[0mclassification_report\u001b[0m\u001b[1;33m(\u001b[0m\u001b[0my_test\u001b[0m\u001b[1;33m,\u001b[0m \u001b[0my_pred\u001b[0m\u001b[1;33m)\u001b[0m\u001b[1;33m)\u001b[0m\u001b[1;33m\u001b[0m\u001b[1;33m\u001b[0m\u001b[0m\n\u001b[0m",
      "\u001b[1;31mNameError\u001b[0m: name 'classification_report' is not defined"
     ]
    }
   ],
   "source": [
    "#طريقة الريبورت\n",
    "print(classification_report(y_test, y_pred))"
   ]
  }
 ],
 "metadata": {
  "accelerator": "GPU",
  "colab": {
   "collapsed_sections": [],
   "name": "finalprogect.ipynb",
   "provenance": []
  },
  "kernelspec": {
   "display_name": "Python 3 (ipykernel)",
   "language": "python",
   "name": "python3"
  },
  "language_info": {
   "codemirror_mode": {
    "name": "ipython",
    "version": 3
   },
   "file_extension": ".py",
   "mimetype": "text/x-python",
   "name": "python",
   "nbconvert_exporter": "python",
   "pygments_lexer": "ipython3",
   "version": "3.7.8"
  }
 },
 "nbformat": 4,
 "nbformat_minor": 1
}
